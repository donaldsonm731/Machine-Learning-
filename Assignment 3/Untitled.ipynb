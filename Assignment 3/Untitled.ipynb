{
 "cells": [
  {
   "cell_type": "code",
   "execution_count": 19,
   "id": "696558ba",
   "metadata": {},
   "outputs": [
    {
     "ename": "IndentationError",
     "evalue": "unindent does not match any outer indentation level (<tokenize>, line 47)",
     "output_type": "error",
     "traceback": [
      "\u001b[1;36m  File \u001b[1;32m\"<tokenize>\"\u001b[1;36m, line \u001b[1;32m47\u001b[0m\n\u001b[1;33m    def batch_fit(self, verbose=False, plot=False):\u001b[0m\n\u001b[1;37m    ^\u001b[0m\n\u001b[1;31mIndentationError\u001b[0m\u001b[1;31m:\u001b[0m unindent does not match any outer indentation level\n"
     ]
    }
   ],
   "source": [
    "import numpy as np\n",
    "import matplotlib.pyplot as plt\n",
    "from sklearn.model_selection import train_test_split\n",
    "from sklearn.datasets import make_classification\n",
    "from sklearn import datasets\n",
    "from sklearn.metrics import accuracy_score\n",
    "\n",
    "class Perceptron(object):             \n",
    "  def __init__(self, x_train, y_train, mu, epochs=100):\n",
    "    # add one for bias\n",
    "    self.n, _ = x_train.shape\n",
    "    self.x_train = np.c_[np.ones(self.n), x_train]\n",
    "    _, self.d = self.x_train.shape\n",
    "    # self.W = [[0.1],[0.1],[0]]\n",
    "    self.w = np.zeros([self.d, 1])\n",
    "    self.epochs, self.mu, self.epsilon = epochs, mu\n",
    "    self.y_true = y_train\n",
    "\n",
    "  def predict(self, x):\n",
    "    return np.sign(x.dot(self.W))   \n",
    "\n",
    "  def seq_fit(self, verbose=False, plot=False):\n",
    "    \"\"\"\n",
    "    Sequential Perceptron algorithm.\n",
    "    \"\"\"\n",
    "    error_list = []\n",
    "    for epoch in range(self.epochs):\n",
    "      if np.all([np.squeeze(self.predict(self.X_train)) == np.squeeze(self.y_true)]):\n",
    "        break\n",
    "      for i in range(self.n):\n",
    "        y_pred = self.predict(self.X_train[i])\n",
    "        if y_pred != self.y_true[i]:\n",
    "            self.W = self.W + self.lr*(self.y_true[i] * self.X_train[i].reshape([self.d,1]))\n",
    "      err = self.error()   \n",
    "      error_list.append(self.error())\n",
    "\n",
    "      if verbose:\n",
    "        print(\"Error at epoch {}: {}\".format(epoch, err))\n",
    "      if plot:\n",
    "        print(\"epochs {}: the weight:{} \\n\".format(epoch, self.W))\n",
    "        self.plot(self.W[1], self.W[2], self.W[0], epoch)\n",
    "\n",
    "    return self.W, error_list, epoch+1\n",
    "\n",
    "  def batch_fit(self, verbose=False, plot=False):\n",
    "    \"\"\"\n",
    "    Batch Perceptron algorithm.\n",
    "    \"\"\"\n",
    "    error_list = []\n",
    "    for epoch in range(self.epochs):\n",
    "      y_pred = self.predict(self.X_train)\n",
    "      if np.any([np.squeeze(y_pred) != np.squeeze(self.y_true)]):\n",
    "        update = np.sum(self.y_true[np.squeeze(y_pred) != np.squeeze(self.y_true)] \n",
    "                                          * self.X_train[np.squeeze(y_pred) != np.squeeze(self.y_true)], axis=0).reshape([self.d,1])\n",
    "        self.W += self.lr * update\n",
    "        err = self.error()\n",
    "        error_list.append(err)\n",
    "      else:\n",
    "        break\n",
    "    \n",
    "      if verbose:\n",
    "        print(\"Error at epoch {}: {}\".format(epoch, err))\n",
    "      if plot:\n",
    "        print(\"epochs {}: the weight:{} \\n\".format(epoch, self.W))\n",
    "        self.plot(self.W[1], self.W[2], self.W[0], epoch)\n",
    "        \n",
    "    return self.W, error_list, epoch+1\n",
    "\n",
    "  def error(self, X_test=None, y_test=None):\n",
    "    \"\"\"\n",
    "    Used to calculate the residual sum of squares (RSS) error.\n",
    "    If X_test and y_test are not given, returns the training RSS,\n",
    "    otherwise test RSS.\n",
    "    \"\"\"\n",
    "    if X_test is None:\n",
    "      diff = self.y_true-self.predict(self.X_train)\n",
    "    else:\n",
    "      diff = y_test-self.predict(X_test)\n",
    "    return (diff.T@diff)[0,0]\n",
    "\n",
    "  def plot(self, a, b, bias, epoch):\n",
    "    y = self.y_true.reshape(len(self.y_true),)\n",
    "    plt.plot(self.X_train[:, 1][y == -1], self.X_train[:, 2][y == -1], 'yo')\n",
    "    plt.plot(self.X_train[:, 1][y ==  1], self.X_train[:, 2][y ==  1], 'ro')\n",
    "\n",
    "    xx = np.linspace(-1,11,5000)\n",
    "    yy = (a*xx + bias)/(-1*b)\n",
    "    plt.plot(xx, yy,'b')\n",
    "    plt.title(\"epoch \"+str(epoch))\n",
    "    plt.xlim(np.min(self.X_train[:, 1])-1, np.max(self.X_train[:, 1])+1)\n",
    "    plt.ylim(np.min(self.X_train[:, 2])-1, np.max(self.X_train[:, 2])+1)\n",
    "    plt.show()\n"
   ]
  },
  {
   "cell_type": "code",
   "execution_count": 11,
   "id": "e13f67e0",
   "metadata": {},
   "outputs": [
    {
     "data": {
      "image/png": "[encoded data removed]",
      "text/plain": [
       "<Figure size 432x288 with 1 Axes>"
      ]
     },
     "metadata": {
      "needs_background": "light"
     },
     "output_type": "display_data"
    }
   ],
   "source": [
    "#small dataset for sequential training\n",
    "X = np.array([\n",
    "    [0.2, 0.1],\n",
    "    [0.4, 0.6],\n",
    "    [0.5, 0.2],\n",
    "    [0.7, 0.9]\n",
    "])\n",
    "y = np.array([1, 1, 1, -1]).reshape(4)\n",
    "plt.plot(X[:, 0][y == -1], X[:, 1][y == -1], 'yo')\n",
    "plt.plot(X[:, 0][y == 1], X[:, 1][y == 1], 'ro')\n",
    "plt.xlim(-1,2)\n",
    "plt.ylim(-0.75,1.25)\n",
    "perceptron = Perceptron(X, y, epochs=10, lr=0.2)\n",
    "#w,err,_ = perceptron.seq_fit(verbose = True,plot=True)\n",
    "w, err, _ = perceptron.batch_fit()"
   ]
  },
  {
   "cell_type": "code",
   "execution_count": null,
   "id": "30d915c2",
   "metadata": {},
   "outputs": [],
   "source": []
  }
 ],
 "metadata": {
  "kernelspec": {
   "display_name": "Python 3",
   "language": "python",
   "name": "python3"
  },
  "language_info": {
   "codemirror_mode": {
    "name": "ipython",
    "version": 3
   },
   "file_extension": ".py",
   "mimetype": "text/x-python",
   "name": "python",
   "nbconvert_exporter": "python",
   "pygments_lexer": "ipython3",
   "version": "3.8.8"
  }
 },
 "nbformat": 4,
 "nbformat_minor": 5
}
