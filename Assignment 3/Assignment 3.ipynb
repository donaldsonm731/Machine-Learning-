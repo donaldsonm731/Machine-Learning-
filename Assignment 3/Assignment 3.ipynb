{
 "cells": [
  {
   "cell_type": "code",
   "execution_count": null,
   "id": "8b5aeeaa",
   "metadata": {},
   "outputs": [],
   "source": [
    "## Assignment 3\n",
    "## Problem 1a - creating 50 pos. and 50 neg. 2d points\n",
    "\n",
    "import numpy as np\n",
    "import matplotlib.pyplot as plt\n",
    "from sklearn.datasets import make_blobs\n",
    "from sklearn.model_selection import train_test_split\n",
    "\n",
    "N = 100;\n",
    "\n",
    "x, y = make_blobs(n_samples= N , n_features=2, centers=2, random_state=20)\n",
    "\n",
    "x_train, x_test, y_train, y_test = train_test_split(x, y, test_size=0.30)\n",
    "\n",
    "plt.figure(figsize=(6, 6))\n",
    "plt.scatter(x[:,0], x[:,1], c=y, s=6)\n",
    "plt.show()\n",
    "\n",
    "\n",
    "    "
   ]
  },
  {
   "cell_type": "code",
   "execution_count": null,
   "id": "8e21dbe9",
   "metadata": {},
   "outputs": [],
   "source": [
    "## Perceptron Algorithm\n",
    "\n",
    "\n",
    "w = np.array([0, 0])\n",
    "k = 0\n",
    "mu = 0.1\n",
    "\n",
    "for k in range(1):#len(x_train)):\n",
    "    M_k = []\n",
    "    i = 0\n",
    "    for i in range(len(x_train)):\n",
    "        y_pred = y_prediction(x_train[i], w)\n",
    "    \n",
    "        if y_pred != y_train[i]:\n",
    "            M_k.append([x_train[i],y_train[i]])\n",
    "    \n",
    "   \n",
    "   \n",
    "        #w = w + mu\n",
    "        #print\n",
    "    \n",
    "#for k in range(N):\n",
    "    #M_k = []\n",
    "    #j = 0\n",
    "   \n",
    "\n",
    "    #for j in range(N):\n",
    "        \n",
    "    \n",
    "    #w = w + mu\n",
    " \n",
    "def y_prediction(x, w):\n",
    "    if w.dot(x) > 0:\n",
    "        return 1\n",
    "    else :\n",
    "        return 0\n"
   ]
  },
  {
   "cell_type": "code",
   "execution_count": null,
   "id": "00fc5e83",
   "metadata": {},
   "outputs": [],
   "source": [
    "#create lists\n",
    "list_1 = ['Python','Data',2020,2021]\n",
    "\n",
    "#Accessing values in lists\n",
    "print(\"list_1[0]: \", list_1[0])\n",
    "\n",
    "#Slicing could access sublists \n",
    "print(\"list_1[0:2]:\", list_1[0:2])\n",
    "\n",
    "#Negetive indices count from the right of the list\n",
    "print(\"list_1[-1]:\",list_1[-1])\n",
    "#Adding new values to lists\n",
    "list_1.append(2019)\n",
    "print(list_1)\n",
    "\n",
    "#Remove the last element of the list\n",
    "list_1.pop()\n",
    "print(list_1)\n",
    "\n",
    "#Remove the index element of the list\n",
    "list_1.pop(1)\n",
    "print(list_1)"
   ]
  },
  {
   "cell_type": "code",
   "execution_count": null,
   "id": "6380504a",
   "metadata": {},
   "outputs": [],
   "source": []
  }
 ],
 "metadata": {
  "kernelspec": {
   "display_name": "Python 3",
   "language": "python",
   "name": "python3"
  },
  "language_info": {
   "codemirror_mode": {
    "name": "ipython",
    "version": 3
   },
   "file_extension": ".py",
   "mimetype": "text/x-python",
   "name": "python",
   "nbconvert_exporter": "python",
   "pygments_lexer": "ipython3",
   "version": "3.8.8"
  }
 },
 "nbformat": 4,
 "nbformat_minor": 5
}
