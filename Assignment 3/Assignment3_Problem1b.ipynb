{
 "cells": [
  {
   "cell_type": "code",
   "execution_count": 171,
   "id": "0eea215b",
   "metadata": {},
   "outputs": [
    {
     "data": {
      "image/png": "[encoded data removed]",
      "text/plain": [
       "<Figure size 432x432 with 1 Axes>"
      ]
     },
     "metadata": {
      "needs_background": "light"
     },
     "output_type": "display_data"
    }
   ],
   "source": [
    "## ## Problem 1b - part 1\n",
    "\n",
    "import numpy as np\n",
    "import matplotlib.pyplot as plt\n",
    "from sklearn.datasets import make_blobs\n",
    "from sklearn.model_selection import train_test_split\n",
    "from sklearn.metrics import accuracy_score\n",
    "from sklearn import datasets\n",
    "#############################################\n",
    "N = 100;\n",
    "\n",
    "x, y = datasets.make_blobs(n_samples=N, centers=2, n_features=2, cluster_std=10, random_state=100)\n",
    "#plt.plot(x[:, 0][y == 0], x[:, 1][y == 0], 'g^')\n",
    "\n",
    "x_train, x_test, y_train, y_test = train_test_split(x, y, test_size=0.30)\n",
    "############################################################################\n",
    "## This part is just adding the dummy variable to the beginning of each x element \n",
    "## and changing the values of y to -1 and 1 instead of 0 and 1\n",
    "n = len(x_train)\n",
    "x_train = np.c_[np.ones(n), x_train]\n",
    "#print(x_train)\n",
    "\n",
    "y_train[y_train == 0] = -1\n",
    "#print(y_train)\n",
    "\n",
    "n = len(x_test)\n",
    "x_test = np.c_[np.ones(n), x_test]\n",
    "#print(x_train)\n",
    "\n",
    "y_test[y_test == 0] = -1\n",
    "#print(y_train)\n",
    "\n",
    "####################################################################3333\n",
    "plt.figure(figsize=(6, 6))\n",
    "plt.scatter(x[:,0], x[:,1], c=y, s=6)\n",
    "plt.show()\n"
   ]
  },
  {
   "cell_type": "code",
   "execution_count": 172,
   "id": "d800b51a",
   "metadata": {},
   "outputs": [],
   "source": [
    "## I define some helper function to call when running through the perceptron algorithm. \n",
    "## First one predicts the value of y, from the weight and x element given.\n",
    "## Second was to help me sum up all the elements that predicted a wron y value\n",
    "## Third helped me get the error, similar to the sum function just multiplied by the wi\n",
    "def y_prediction(x, w):\n",
    "    return np.sign(x.dot(w))\n",
    "    \n",
    "    \n",
    "def sum_Mk(M_k):\n",
    "    dummy = 0\n",
    "    for i in range(0,len(M_k),2):\n",
    "        dummy = dummy + M_k[i][0]*M_k[i][1]\n",
    "    \n",
    "    return dummy\n",
    "\n",
    "def error_rss(x, y, w):\n",
    "    diff = y - y_prediction(x,w)\n",
    "    return diff.T@diff\n",
    "\n",
    "def error(y_true,y_pred):\n",
    "    diff =  y_true - y_pred\n",
    "    \n",
    "    return diff.T@diff\n",
    "\n",
    "def sum(x):\n",
    "    total = 0\n",
    "    for i in range(len(x)):\n",
    "        total = total + x[i][0]\n",
    "        \n",
    "    return total"
   ]
  },
  {
   "cell_type": "code",
   "execution_count": 173,
   "id": "204cb5cd",
   "metadata": {},
   "outputs": [],
   "source": [
    "## Batch Perceptron Algorithm - for nonseperable data\n",
    "\n",
    "def avg_batch(x,y,epochs, mu):\n",
    "    w = np.array([0, 0, 0])\n",
    "    k = 0\n",
    "    c = 0\n",
    "    weight_list = [(w,c)]\n",
    "    for T in range(epochs-1):\n",
    "         \n",
    "        for i in range(len(x)):\n",
    "            y_pred = y_prediction(x[i],w)\n",
    "            \n",
    "            if y_pred == y[i]:\n",
    "                c += 1\n",
    "            else:\n",
    "                w = w + x[i]*y[i]\n",
    "                c = 1\n",
    "                k += 1  \n",
    "                \n",
    "        weight_list.append([w, c])\n",
    "          \n",
    "                \n",
    "    return weight_list\n",
    "    \n",
    "    \n",
    "def avg(x,y,list):\n",
    "    prediction = []\n",
    "    err = []\n",
    "    for i in range(len(x)):\n",
    "        y_hat = 0\n",
    "        ## for a single x value it will calculate and sum the prediction from all the weights\n",
    "        for j in range(len(list)):\n",
    "            c = list[j][1]\n",
    "            w = list[j][0]\n",
    "            y_hat = y_hat + c*x[i].dot(w)\n",
    "        ## that prediction is then stored in the prediction array \n",
    "        prediction.append(y_hat)\n",
    "        pred = np.sign(np.array(prediction))\n",
    "        err.append(err)\n",
    "    ## returns the prediction for each x value given  \n",
    "    return pred"
   ]
  },
  {
   "cell_type": "code",
   "execution_count": 174,
   "id": "70b3079b",
   "metadata": {},
   "outputs": [
    {
     "data": {
      "image/png": "[encoded data removed]",
      "text/plain": [
       "<Figure size 432x288 with 1 Axes>"
      ]
     },
     "metadata": {
      "needs_background": "light"
     },
     "output_type": "display_data"
    }
   ],
   "source": [
    "## Assignment 3b part 2\n",
    "## Gets the list of weights and amount of success that weight had\n",
    "list = avg_batch(x_train, y_train, 100, 0.01)\n",
    "## Takes an average of the weights\n",
    "avg_w = 1/len(list)*sum(list[:])\n",
    "## Average the prediction based on the set of weights found in average pereptron model\n",
    "pred = avg(x_test,y_test, list)\n",
    "\n",
    "## Plotting\n",
    "plt.plot(x_train[:, 1][y_train == 1], x_train[:, 2][y_train == 1], 'g^')\n",
    "plt.plot(x_train[:, 1][y_train == -1], x_train[:, 2][y_train == -1], 'bs')\n",
    "\n",
    "ap_xx = np.linspace(np.min(x_train[:,1]), np.max(x_train[:,1]))\n",
    "ap_yy = (avg_w[1]*sp_xx + avg_w[0])/(-1*avg_w[2])\n",
    "plt.plot(ap_xx, ap_yy)\n",
    "plt.show()\n"
   ]
  },
  {
   "cell_type": "code",
   "execution_count": null,
   "id": "939b84c1",
   "metadata": {},
   "outputs": [],
   "source": []
  }
 ],
 "metadata": {
  "kernelspec": {
   "display_name": "Python 3",
   "language": "python",
   "name": "python3"
  },
  "language_info": {
   "codemirror_mode": {
    "name": "ipython",
    "version": 3
   },
   "file_extension": ".py",
   "mimetype": "text/x-python",
   "name": "python",
   "nbconvert_exporter": "python",
   "pygments_lexer": "ipython3",
   "version": "3.8.8"
  }
 },
 "nbformat": 4,
 "nbformat_minor": 5
}
